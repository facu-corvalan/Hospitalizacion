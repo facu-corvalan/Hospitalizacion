{
 "cells": [
  {
   "cell_type": "markdown",
   "metadata": {},
   "source": [
    "# Modelo de Machine Learning"
   ]
  },
  {
   "cell_type": "markdown",
   "metadata": {},
   "source": [
    "Una vez preparados los datos, se procede a buscar un modelo de Machine Learning de clasificación, que permita clasificar a un paciente como *hospitalizado* o *no hospitalizado*, teniendo en cuenta la información referente a sus antecedentes como paciente, las morbilidad asociadas, los antecedentes relacionados con la toma de la biopsia y complicaciones infecciosas.\n",
    "\n",
    "Para ello, se plantean dos estrategias para esa busqueda. Por un lado, utilizar las 12 columnas de datos y, en una segunda estrategia, se considera la reducción de dimensionalidad. Para ambas estrategias se utilizan los algoritmos de Árbol de Decisión, K-Vecinos Cernanos y Máquina de Soporte de Vectores.\n",
    "\n",
    "Para la elección de los mejores hiperparámetros de cada uno de ellos, se utiliza una búsqueda exaustiva mediante la técnica de GridSearch.\n",
    "\n",
    "A continuación, se describen cada uno de los pasos seguidos y la elección del mejor modelo."
   ]
  },
  {
   "cell_type": "markdown",
   "metadata": {},
   "source": [
    "-----------------"
   ]
  },
  {
   "cell_type": "markdown",
   "metadata": {},
   "source": [
    "## Importamos las librerias que vamos a utilizar"
   ]
  },
  {
   "cell_type": "code",
   "execution_count": 39,
   "metadata": {},
   "outputs": [],
   "source": [
    "import pandas as pd\n",
    "import numpy as np\n",
    "import matplotlib.pyplot as plt\n",
    "import seaborn as sns\n",
    "\n",
    "\n",
    "from imblearn.over_sampling import RandomOverSampler\n",
    "from sklearn.model_selection import train_test_split\n",
    "from sklearn.model_selection import GridSearchCV\n",
    "\n",
    "from sklearn.neighbors import KNeighborsClassifier\n",
    "from sklearn.tree import DecisionTreeClassifier\n",
    "from sklearn.svm import SVC\n",
    "\n",
    "from sklearn.preprocessing import StandardScaler\n",
    "from sklearn.decomposition import PCA\n",
    "\n",
    "from sklearn.metrics import ConfusionMatrixDisplay\n",
    "from sklearn.metrics import confusion_matrix\n",
    "from sklearn.metrics import accuracy_score, precision_score, recall_score, f1_score\n",
    "from sklearn.metrics import classification_report\n",
    "\n",
    "sns.set_style(\"white\")\n",
    "import warnings\n",
    "warnings.simplefilter(\"ignore\")"
   ]
  },
  {
   "cell_type": "markdown",
   "metadata": {},
   "source": [
    "## Cargamos los datos"
   ]
  },
  {
   "cell_type": "code",
   "execution_count": 5,
   "metadata": {},
   "outputs": [],
   "source": [
    "df = pd.read_csv('Datasets/hospitalizacion_codificado.csv')"
   ]
  },
  {
   "cell_type": "markdown",
   "metadata": {},
   "source": [
    "-----------"
   ]
  },
  {
   "cell_type": "markdown",
   "metadata": {},
   "source": [
    "## Exploración inicial"
   ]
  },
  {
   "cell_type": "markdown",
   "metadata": {},
   "source": [
    "Para comenzar, se realiza una exploración inicial de Dataframe, para reconocer sus variables y y estructura del mismo."
   ]
  },
  {
   "cell_type": "code",
   "execution_count": 6,
   "metadata": {},
   "outputs": [
    {
     "data": {
      "text/html": [
       "<div>\n",
       "<style scoped>\n",
       "    .dataframe tbody tr th:only-of-type {\n",
       "        vertical-align: middle;\n",
       "    }\n",
       "\n",
       "    .dataframe tbody tr th {\n",
       "        vertical-align: top;\n",
       "    }\n",
       "\n",
       "    .dataframe thead th {\n",
       "        text-align: right;\n",
       "    }\n",
       "</style>\n",
       "<table border=\"1\" class=\"dataframe\">\n",
       "  <thead>\n",
       "    <tr style=\"text-align: right;\">\n",
       "      <th></th>\n",
       "      <th>Edad</th>\n",
       "      <th>Diabetes</th>\n",
       "      <th>PSA</th>\n",
       "      <th>Biopsias_prev</th>\n",
       "      <th>Vol_prostatico</th>\n",
       "      <th>Antibiotico_en_profilaxis</th>\n",
       "      <th>Nro_muestras</th>\n",
       "      <th>Epoc</th>\n",
       "      <th>Biopsia</th>\n",
       "      <th>Fiebre</th>\n",
       "      <th>ITU</th>\n",
       "      <th>Tipo_cultivo</th>\n",
       "      <th>Hospitalizacion</th>\n",
       "    </tr>\n",
       "  </thead>\n",
       "  <tbody>\n",
       "    <tr>\n",
       "      <th>0</th>\n",
       "      <td>53</td>\n",
       "      <td>0</td>\n",
       "      <td>4.0</td>\n",
       "      <td>0</td>\n",
       "      <td>1</td>\n",
       "      <td>1</td>\n",
       "      <td>12</td>\n",
       "      <td>0</td>\n",
       "      <td>7</td>\n",
       "      <td>1</td>\n",
       "      <td>0</td>\n",
       "      <td>2</td>\n",
       "      <td>1</td>\n",
       "    </tr>\n",
       "    <tr>\n",
       "      <th>1</th>\n",
       "      <td>56</td>\n",
       "      <td>0</td>\n",
       "      <td>7.7</td>\n",
       "      <td>0</td>\n",
       "      <td>1</td>\n",
       "      <td>1</td>\n",
       "      <td>12</td>\n",
       "      <td>0</td>\n",
       "      <td>7</td>\n",
       "      <td>1</td>\n",
       "      <td>0</td>\n",
       "      <td>2</td>\n",
       "      <td>1</td>\n",
       "    </tr>\n",
       "    <tr>\n",
       "      <th>2</th>\n",
       "      <td>57</td>\n",
       "      <td>0</td>\n",
       "      <td>29.0</td>\n",
       "      <td>1</td>\n",
       "      <td>1</td>\n",
       "      <td>1</td>\n",
       "      <td>24</td>\n",
       "      <td>0</td>\n",
       "      <td>7</td>\n",
       "      <td>1</td>\n",
       "      <td>0</td>\n",
       "      <td>0</td>\n",
       "      <td>1</td>\n",
       "    </tr>\n",
       "    <tr>\n",
       "      <th>3</th>\n",
       "      <td>56</td>\n",
       "      <td>0</td>\n",
       "      <td>7.0</td>\n",
       "      <td>0</td>\n",
       "      <td>1</td>\n",
       "      <td>1</td>\n",
       "      <td>12</td>\n",
       "      <td>0</td>\n",
       "      <td>7</td>\n",
       "      <td>1</td>\n",
       "      <td>0</td>\n",
       "      <td>2</td>\n",
       "      <td>1</td>\n",
       "    </tr>\n",
       "    <tr>\n",
       "      <th>4</th>\n",
       "      <td>55</td>\n",
       "      <td>0</td>\n",
       "      <td>29.0</td>\n",
       "      <td>1</td>\n",
       "      <td>1</td>\n",
       "      <td>1</td>\n",
       "      <td>24</td>\n",
       "      <td>0</td>\n",
       "      <td>7</td>\n",
       "      <td>1</td>\n",
       "      <td>0</td>\n",
       "      <td>0</td>\n",
       "      <td>1</td>\n",
       "    </tr>\n",
       "    <tr>\n",
       "      <th>...</th>\n",
       "      <td>...</td>\n",
       "      <td>...</td>\n",
       "      <td>...</td>\n",
       "      <td>...</td>\n",
       "      <td>...</td>\n",
       "      <td>...</td>\n",
       "      <td>...</td>\n",
       "      <td>...</td>\n",
       "      <td>...</td>\n",
       "      <td>...</td>\n",
       "      <td>...</td>\n",
       "      <td>...</td>\n",
       "      <td>...</td>\n",
       "    </tr>\n",
       "    <tr>\n",
       "      <th>426</th>\n",
       "      <td>55</td>\n",
       "      <td>0</td>\n",
       "      <td>5.0</td>\n",
       "      <td>0</td>\n",
       "      <td>0</td>\n",
       "      <td>1</td>\n",
       "      <td>12</td>\n",
       "      <td>0</td>\n",
       "      <td>2</td>\n",
       "      <td>0</td>\n",
       "      <td>0</td>\n",
       "      <td>2</td>\n",
       "      <td>0</td>\n",
       "    </tr>\n",
       "    <tr>\n",
       "      <th>427</th>\n",
       "      <td>70</td>\n",
       "      <td>1</td>\n",
       "      <td>18.0</td>\n",
       "      <td>0</td>\n",
       "      <td>1</td>\n",
       "      <td>1</td>\n",
       "      <td>12</td>\n",
       "      <td>0</td>\n",
       "      <td>7</td>\n",
       "      <td>0</td>\n",
       "      <td>0</td>\n",
       "      <td>2</td>\n",
       "      <td>0</td>\n",
       "    </tr>\n",
       "    <tr>\n",
       "      <th>428</th>\n",
       "      <td>75</td>\n",
       "      <td>0</td>\n",
       "      <td>75.0</td>\n",
       "      <td>0</td>\n",
       "      <td>1</td>\n",
       "      <td>1</td>\n",
       "      <td>12</td>\n",
       "      <td>0</td>\n",
       "      <td>3</td>\n",
       "      <td>0</td>\n",
       "      <td>0</td>\n",
       "      <td>2</td>\n",
       "      <td>0</td>\n",
       "    </tr>\n",
       "    <tr>\n",
       "      <th>429</th>\n",
       "      <td>67</td>\n",
       "      <td>0</td>\n",
       "      <td>6.0</td>\n",
       "      <td>0</td>\n",
       "      <td>1</td>\n",
       "      <td>1</td>\n",
       "      <td>12</td>\n",
       "      <td>0</td>\n",
       "      <td>1</td>\n",
       "      <td>0</td>\n",
       "      <td>0</td>\n",
       "      <td>2</td>\n",
       "      <td>0</td>\n",
       "    </tr>\n",
       "    <tr>\n",
       "      <th>430</th>\n",
       "      <td>64</td>\n",
       "      <td>0</td>\n",
       "      <td>4.8</td>\n",
       "      <td>0</td>\n",
       "      <td>1</td>\n",
       "      <td>3</td>\n",
       "      <td>12</td>\n",
       "      <td>0</td>\n",
       "      <td>2</td>\n",
       "      <td>0</td>\n",
       "      <td>0</td>\n",
       "      <td>2</td>\n",
       "      <td>0</td>\n",
       "    </tr>\n",
       "  </tbody>\n",
       "</table>\n",
       "<p>431 rows × 13 columns</p>\n",
       "</div>"
      ],
      "text/plain": [
       "     Edad  Diabetes   PSA  Biopsias_prev  Vol_prostatico  \\\n",
       "0      53         0   4.0              0               1   \n",
       "1      56         0   7.7              0               1   \n",
       "2      57         0  29.0              1               1   \n",
       "3      56         0   7.0              0               1   \n",
       "4      55         0  29.0              1               1   \n",
       "..    ...       ...   ...            ...             ...   \n",
       "426    55         0   5.0              0               0   \n",
       "427    70         1  18.0              0               1   \n",
       "428    75         0  75.0              0               1   \n",
       "429    67         0   6.0              0               1   \n",
       "430    64         0   4.8              0               1   \n",
       "\n",
       "     Antibiotico_en_profilaxis  Nro_muestras  Epoc  Biopsia  Fiebre  ITU  \\\n",
       "0                            1            12     0        7       1    0   \n",
       "1                            1            12     0        7       1    0   \n",
       "2                            1            24     0        7       1    0   \n",
       "3                            1            12     0        7       1    0   \n",
       "4                            1            24     0        7       1    0   \n",
       "..                         ...           ...   ...      ...     ...  ...   \n",
       "426                          1            12     0        2       0    0   \n",
       "427                          1            12     0        7       0    0   \n",
       "428                          1            12     0        3       0    0   \n",
       "429                          1            12     0        1       0    0   \n",
       "430                          3            12     0        2       0    0   \n",
       "\n",
       "     Tipo_cultivo  Hospitalizacion  \n",
       "0               2                1  \n",
       "1               2                1  \n",
       "2               0                1  \n",
       "3               2                1  \n",
       "4               0                1  \n",
       "..            ...              ...  \n",
       "426             2                0  \n",
       "427             2                0  \n",
       "428             2                0  \n",
       "429             2                0  \n",
       "430             2                0  \n",
       "\n",
       "[431 rows x 13 columns]"
      ]
     },
     "execution_count": 6,
     "metadata": {},
     "output_type": "execute_result"
    }
   ],
   "source": [
    "df"
   ]
  },
  {
   "cell_type": "markdown",
   "metadata": {},
   "source": [
    "Se observa la distribución de los datos en función de la variable objetivo."
   ]
  },
  {
   "cell_type": "code",
   "execution_count": 7,
   "metadata": {},
   "outputs": [],
   "source": [
    "def countplot_vertical(df, columna):\n",
    "    '''\n",
    "    Realiza un countplot sencillo para una columna determinada.\n",
    "    '''\n",
    "    plt.figure(figsize=(7, 3))\n",
    "\n",
    "    sns.countplot(data=df, x=df[columna])\n",
    "\n",
    "    plt.title(f'Countplot de la columna {columna}')\n",
    "\n",
    "    # Ajusta los espacios entre subplots y muestra\n",
    "    plt.tight_layout()\n",
    "    plt.show()"
   ]
  },
  {
   "cell_type": "code",
   "execution_count": 9,
   "metadata": {},
   "outputs": [
    {
     "data": {
      "image/png": "[encoded data removed]",
      "text/plain": [
       "<Figure size 700x300 with 1 Axes>"
      ]
     },
     "metadata": {},
     "output_type": "display_data"
    },
    {
     "data": {
      "text/plain": [
       "Hospitalizacion\n",
       "0    408\n",
       "1     23\n",
       "Name: count, dtype: int64"
      ]
     },
     "execution_count": 9,
     "metadata": {},
     "output_type": "execute_result"
    }
   ],
   "source": [
    "countplot_vertical(df, 'Hospitalizacion')\n",
    "df['Hospitalizacion'].value_counts()"
   ]
  },
  {
   "cell_type": "markdown",
   "metadata": {},
   "source": [
    "Se observa un gran desbalaceo de las clases para la variable objetivo, siendo la clase positiva para la hospitalización solo 23 registros. Por tal motivo, se decide hacer un sobremuestreo de la variable."
   ]
  },
  {
   "cell_type": "markdown",
   "metadata": {},
   "source": [
    "---------------------"
   ]
  },
  {
   "cell_type": "markdown",
   "metadata": {},
   "source": [
    "## Separación de los conjuntos de entrenamiento/testeo y sobremuestreo"
   ]
  },
  {
   "cell_type": "markdown",
   "metadata": {},
   "source": [
    "Dado que se observa un gran desbalance de la variable objetivo, se decide hacer el sobremuestreo de la clase minoritaria de la misma utilizando el método `RandomOverSampler` de la librería `imbalanced-learn`. \n",
    "\n",
    "Por otra parte, este sobremuestreo se aplica sólo a los datos del entrenamiento (train), porque el objetivo es generar instancias sintéticas de la clase minoritaria para equilibrar la distribución de clases y mejorar el rendimiento del modelo en la detección de la clase minoritaria, pero se busca que el modelo sea capaz de generalizar sobre datos reales (test). De esta manera, se preservan datos para una evaluación realista y se evitan fugas de información al conjunto de entrenamiento, enfrentando al modelo a datos realmente nuevos."
   ]
  },
  {
   "cell_type": "code",
   "execution_count": 11,
   "metadata": {},
   "outputs": [
    {
     "name": "stdout",
     "output_type": "stream",
     "text": [
      "Para el entrenamiento quedan 285 etiquetas NO y 16 etiquetas SI\n",
      "Para el testeo quedan 123 etiquetas NO y 7 etiquetas SI\n"
     ]
    }
   ],
   "source": [
    "# Se definen X e y (variables predictoras y variable objetivo)\n",
    "X = df.drop('Hospitalizacion', axis=1)\n",
    "y = df['Hospitalizacion']\n",
    "\n",
    "# Se divide el conjuntos de entrenamiento y prueba\n",
    "X_train, X_test, y_train, y_test = train_test_split(X, y, test_size=0.3, random_state=42, stratify=y)\n",
    "\n",
    "print(f'Para el entrenamiento quedan {y_train.value_counts()[0]} etiquetas NO y {y_train.value_counts()[1]} etiquetas SI')\n",
    "print(f'Para el testeo quedan {y_test.value_counts()[0]} etiquetas NO y {y_test.value_counts()[1]} etiquetas SI')"
   ]
  },
  {
   "cell_type": "code",
   "execution_count": 12,
   "metadata": {},
   "outputs": [
    {
     "name": "stdout",
     "output_type": "stream",
     "text": [
      "Para el entrenamiento quedan 285 etiquetas NO y 285 etiquetas SI\n"
     ]
    }
   ],
   "source": [
    "# Se crea una instancia de RandomOverSampler\n",
    "ros = RandomOverSampler(random_state=42)\n",
    "\n",
    "# Se aplica el sobremuestreo a los datos de entrenamiento\n",
    "X_train_ros, y_train_ros = ros.fit_resample(X_train, y_train)\n",
    "\n",
    "print(f'Para el entrenamiento quedan {y_train_ros.value_counts()[0]} etiquetas NO y {y_train_ros.value_counts()[1]} etiquetas SI')"
   ]
  },
  {
   "cell_type": "markdown",
   "metadata": {},
   "source": [
    "----------------"
   ]
  },
  {
   "cell_type": "markdown",
   "metadata": {},
   "source": [
    "# Estrategias de modelado"
   ]
  },
  {
   "cell_type": "markdown",
   "metadata": {},
   "source": [
    "Como se describió al comienzo, se probaron dos estrategias para encontrar el mejor modelo que puediera considerar todas las variables que se tienen. En primer lugar, se enalizan todas las variables del conjunto de datos y luego se hace una reducción de la dimensionalidad."
   ]
  },
  {
   "cell_type": "markdown",
   "metadata": {},
   "source": [
    "## Todas las variables predictoras"
   ]
  },
  {
   "cell_type": "markdown",
   "metadata": {},
   "source": [
    "Se decidió utilizar tres algoritmos de clasificación: K-Vecinos Cercanos (KNN), Árbol de Decisión (TREE) y Máquina de Soporte de Vectores (SVC). Para cada uno de ellos, se planteó la búsqueda de los mejores hiperparámetros a través de la búsqueda exaustiva de la combinación de rangos de valores para los hiperparámetros considerandos. Esto es lo que se llama Grid Search (búsqueda de grilla)."
   ]
  },
  {
   "cell_type": "markdown",
   "metadata": {},
   "source": [
    "### Se define la grilla de hiperparámetros"
   ]
  },
  {
   "cell_type": "markdown",
   "metadata": {},
   "source": [
    "En primer lugar se define una grilla de los hiperparámetros con los que se quiere probar cada modelo. A continuación, se instancia cada modelo y se hace el entrenamiento de cada combicación de hiperparámetro y modelo considerando una validación cruzada de 5 folds cada vez. Los resultados de las mejores métricas para cada modelo se guardan en una lista que permitirá luego comparar y graficar las matrices de confusión de cada una, para evaluar sus rendimientos."
   ]
  },
  {
   "cell_type": "code",
   "execution_count": 13,
   "metadata": {},
   "outputs": [],
   "source": [
    "# Define el rango de hiperparámetros para KNN el GridSearch\n",
    "param_grid_knn = {\n",
    "    'n_neighbors': np.arange(1, 20),\n",
    "    'weights': ['uniform', 'distance'],\n",
    "    'leaf_size':[1,3,5,7,10],\n",
    "    'algorithm':['auto', 'kd_tree']\n",
    "}\n",
    "\n",
    "# Define el rango de hiperparámetros para tre el GridSearch\n",
    "param_grid_tree = {\n",
    "    \"criterion\": ['gini', 'entropy'],\n",
    "    \"max_depth\": range(1, 20)\n",
    "}\n",
    "\n",
    "# Define el rango de hiperparámetros para SVC el GridSearch\n",
    "param_grid_SVC = {\n",
    "    'C': [0.1, 1, 10, 100, 1000],\n",
    "    'gamma': [1, 0.1, 0.01, 0.001, 0.0001],\n",
    "    'kernel': ['rbf']\n",
    "}"
   ]
  },
  {
   "cell_type": "markdown",
   "metadata": {},
   "source": [
    "### Se hace el entrenamiento"
   ]
  },
  {
   "cell_type": "code",
   "execution_count": 21,
   "metadata": {},
   "outputs": [],
   "source": [
    "def train_and_evaluate_model_estrategia1(estimador, param_grid_clf, X_train_ros, y_train_ros, X_test, y_test):\n",
    "    '''\n",
    "    Realiza el entrenamiento para los distintos modelos así como calcular las distintas métricas.\n",
    "    También calcula la matriz de correlación para el entrenamiento y testeo y devuelve los mejores parámetros.\n",
    "    '''\n",
    "    # Crea una instancia de GridSearchCV\n",
    "    grid_search = GridSearchCV(estimator=estimador, param_grid=param_grid_clf, cv=5)\n",
    "\n",
    "    # Ajusta el GridSearch al conjunto de datos sobremuestreado\n",
    "    grid_search.fit(X_train_ros, y_train_ros)\n",
    "\n",
    "    # Obtiene el mejor modelo y sus hiperparámetros\n",
    "    best_estimador = grid_search.best_estimator_\n",
    "    best_params = grid_search.best_params_\n",
    "\n",
    "    # Evalúa el modelo en el conjunto de prueba\n",
    "    y_pred_test = best_estimador.predict(X_test)\n",
    "    y_pred_train = best_estimador.predict(X_train_ros)\n",
    "    \n",
    "    # Calcula las matrices de confusión\n",
    "    cm_train = confusion_matrix(y_train_ros, y_pred_train)\n",
    "    cm_test = confusion_matrix(y_test, y_pred_test)\n",
    "\n",
    "    # Calcular las métricas que necesitas para entrenamiento y prueba\n",
    "    train_accuracy = accuracy_score(y_train_ros, y_pred_train)\n",
    "    train_precision = precision_score(y_train_ros, y_pred_train)\n",
    "    train_recall = recall_score(y_train_ros, y_pred_train)\n",
    "    train_f1 = f1_score(y_train_ros, y_pred_train)\n",
    "\n",
    "    test_accuracy = accuracy_score(y_test, y_pred_test)\n",
    "    test_precision = precision_score(y_test, y_pred_test)\n",
    "    test_recall = recall_score(y_test, y_pred_test)\n",
    "    test_f1 = f1_score(y_test, y_pred_test)\n",
    "    \n",
    "    # Devolver las métricas en un diccionario\n",
    "    metrics = {\n",
    "        'Train Accuracy': train_accuracy,\n",
    "        'Train Precision': train_precision,\n",
    "        'Train Recall': train_recall,\n",
    "        'Train F1': train_f1,\n",
    "        'Test Accuracy': test_accuracy,\n",
    "        'Test Precision': test_precision,\n",
    "        'Test Recall': test_recall,\n",
    "        'Test F1': test_f1,\n",
    "    }\n",
    "        \n",
    "    return metrics, cm_train, cm_test, best_params\n"
   ]
  },
  {
   "cell_type": "code",
   "execution_count": 22,
   "metadata": {},
   "outputs": [],
   "source": [
    "# Se crea una lista para almacenar los resultados de diferentes modelos\n",
    "results = []\n",
    "\n",
    "# Se instancia y evalua el modelo K-NN\n",
    "knn = KNeighborsClassifier()\n",
    "knn_metrics, knn_cm_train, knn_cm_test, knn_best_params = train_and_evaluate_model_estrategia1(knn, param_grid_knn, X_train_ros, y_train_ros, X_test, y_test)\n",
    "results.append(('KNN', knn_metrics))\n",
    "\n",
    "# Instanciar y evaluar el modelo Decision Tree\n",
    "tree = DecisionTreeClassifier()\n",
    "tree_metrics, tree_cm_train, tree_cm_test, tree_best_params = train_and_evaluate_model_estrategia1(tree, param_grid_tree, X_train_ros, y_train_ros, X_test, y_test)\n",
    "results.append(('Decision Tree', tree_metrics))\n",
    "\n",
    "# Instanciar y evaluar el modelo SVC\n",
    "svc = SVC(probability=True)\n",
    "svc_metrics, svc_cm_train, svc_cm_test, svc_best_params = train_and_evaluate_model_estrategia1(svc, param_grid_SVC, X_train_ros, y_train_ros, X_test, y_test)\n",
    "results.append(('SVC', svc_metrics))"
   ]
  },
  {
   "cell_type": "markdown",
   "metadata": {},
   "source": [
    "## Resultado"
   ]
  },
  {
   "cell_type": "code",
   "execution_count": 23,
   "metadata": {},
   "outputs": [],
   "source": [
    "def summary_results_estrtegia1(results):\n",
    "    '''\n",
    "    Devuelve un resumen de las métricas a partir de un diccionario que contiene el resumen.\n",
    "    '''\n",
    "    # Convertir la lista de resultados en un DataFrame\n",
    "    data = []\n",
    "\n",
    "    for model_name, metrics in results:\n",
    "        metrics['Model'] = model_name\n",
    "        data.append(metrics)\n",
    "\n",
    "    df_summary = pd.DataFrame(data)\n",
    "\n",
    "    # Reordenar las columnas para tener un formato más legible\n",
    "    columns = ['Model', 'Train Accuracy', 'Train Precision', 'Train Recall', 'Train F1', 'Test Accuracy', 'Test Precision', 'Test Recall', 'Test F1']\n",
    "    df_summary = df_summary[columns]\n",
    "    return df_summary"
   ]
  },
  {
   "cell_type": "code",
   "execution_count": 24,
   "metadata": {},
   "outputs": [
    {
     "data": {
      "text/html": [
       "<div>\n",
       "<style scoped>\n",
       "    .dataframe tbody tr th:only-of-type {\n",
       "        vertical-align: middle;\n",
       "    }\n",
       "\n",
       "    .dataframe tbody tr th {\n",
       "        vertical-align: top;\n",
       "    }\n",
       "\n",
       "    .dataframe thead th {\n",
       "        text-align: right;\n",
       "    }\n",
       "</style>\n",
       "<table border=\"1\" class=\"dataframe\">\n",
       "  <thead>\n",
       "    <tr style=\"text-align: right;\">\n",
       "      <th></th>\n",
       "      <th>Model</th>\n",
       "      <th>Train Accuracy</th>\n",
       "      <th>Train Precision</th>\n",
       "      <th>Train Recall</th>\n",
       "      <th>Train F1</th>\n",
       "      <th>Test Accuracy</th>\n",
       "      <th>Test Precision</th>\n",
       "      <th>Test Recall</th>\n",
       "      <th>Test F1</th>\n",
       "    </tr>\n",
       "  </thead>\n",
       "  <tbody>\n",
       "    <tr>\n",
       "      <th>0</th>\n",
       "      <td>KNN</td>\n",
       "      <td>1.0</td>\n",
       "      <td>1.0</td>\n",
       "      <td>1.0</td>\n",
       "      <td>1.0</td>\n",
       "      <td>0.961538</td>\n",
       "      <td>0.666667</td>\n",
       "      <td>0.571429</td>\n",
       "      <td>0.615385</td>\n",
       "    </tr>\n",
       "    <tr>\n",
       "      <th>1</th>\n",
       "      <td>Decision Tree</td>\n",
       "      <td>1.0</td>\n",
       "      <td>1.0</td>\n",
       "      <td>1.0</td>\n",
       "      <td>1.0</td>\n",
       "      <td>0.969231</td>\n",
       "      <td>0.800000</td>\n",
       "      <td>0.571429</td>\n",
       "      <td>0.666667</td>\n",
       "    </tr>\n",
       "    <tr>\n",
       "      <th>2</th>\n",
       "      <td>SVC</td>\n",
       "      <td>1.0</td>\n",
       "      <td>1.0</td>\n",
       "      <td>1.0</td>\n",
       "      <td>1.0</td>\n",
       "      <td>0.953846</td>\n",
       "      <td>1.000000</td>\n",
       "      <td>0.142857</td>\n",
       "      <td>0.250000</td>\n",
       "    </tr>\n",
       "  </tbody>\n",
       "</table>\n",
       "</div>"
      ],
      "text/plain": [
       "           Model  Train Accuracy  Train Precision  Train Recall  Train F1  \\\n",
       "0            KNN             1.0              1.0           1.0       1.0   \n",
       "1  Decision Tree             1.0              1.0           1.0       1.0   \n",
       "2            SVC             1.0              1.0           1.0       1.0   \n",
       "\n",
       "   Test Accuracy  Test Precision  Test Recall   Test F1  \n",
       "0       0.961538        0.666667     0.571429  0.615385  \n",
       "1       0.969231        0.800000     0.571429  0.666667  \n",
       "2       0.953846        1.000000     0.142857  0.250000  "
      ]
     },
     "execution_count": 24,
     "metadata": {},
     "output_type": "execute_result"
    }
   ],
   "source": [
    "# Se presenta un resumen de las mejores métricas para cada modelo\n",
    "summary_results_estrtegia1(results)"
   ]
  },
  {
   "cell_type": "code",
   "execution_count": 25,
   "metadata": {},
   "outputs": [
    {
     "name": "stdout",
     "output_type": "stream",
     "text": [
      "PARÁMETROS DE LOS MEJORES MODELOS\n",
      "KNN: {'algorithm': 'auto', 'leaf_size': 1, 'n_neighbors': np.int64(2), 'weights': 'uniform'}\n",
      "Decision Tree: {'criterion': 'gini', 'max_depth': 18}\n",
      "SCV: {'C': 1, 'gamma': 1, 'kernel': 'rbf'}\n"
     ]
    }
   ],
   "source": [
    "# Se presentan los mejores parámetros para cada modelo\n",
    "print('PARÁMETROS DE LOS MEJORES MODELOS')\n",
    "print('KNN:', knn_best_params)\n",
    "print('Decision Tree:', tree_best_params)\n",
    "print('SCV:', svc_best_params)"
   ]
  },
  {
   "cell_type": "code",
   "execution_count": 26,
   "metadata": {},
   "outputs": [
    {
     "data": {
      "image/png": "[encoded data removed]",
      "text/plain": [
       "<Figure size 1500x500 with 6 Axes>"
      ]
     },
     "metadata": {},
     "output_type": "display_data"
    }
   ],
   "source": [
    "# Se visualizan las tres matrices de confusión\n",
    "matrices = [knn_cm_test, tree_cm_test, svc_cm_test]\n",
    "modelos = ['KNN', 'TREE', 'SVC']\n",
    "\n",
    "fig, axes = plt.subplots(1, 3, figsize=(15, 5))\n",
    "for i, m in enumerate(matrices):\n",
    "    ax = axes[i]\n",
    "    cm_display = ConfusionMatrixDisplay(m, display_labels=['NO', 'SI'])\n",
    "    cm_display.plot(ax=ax)\n",
    "    ax.set_title(f'Matriz de Confusión - {modelos[i]}')\n",
    "\n",
    "plt.tight_layout()\n",
    "plt.show()"
   ]
  },
  {
   "cell_type": "markdown",
   "metadata": {},
   "source": [
    "Al ser un conjunto de datos con un gran desbalanceo en la variable objetivo, se toma como métrica de evaluación F1 Score (Test_F1) dado que combina la precisión (resultados correctos sobre el total de muestras seleccionadas) y la exhaustividad (resultados correctos por sobre los resultados que se buscan identificar) de manera de mantener una relación entre las dos. Para esta métrica, **Árbol de Decisión** es el que dió un mejor F1, pero es de 0.67, aún tiene un margen grande de error en las predicciones de los que sí serán hospitalizados, tal como se visualiza en las matrices de confusión."
   ]
  },
  {
   "cell_type": "markdown",
   "metadata": {},
   "source": [
    "----------------"
   ]
  },
  {
   "cell_type": "markdown",
   "metadata": {},
   "source": [
    "## Usando reducción de dimensionalidad (PCA)"
   ]
  },
  {
   "cell_type": "markdown",
   "metadata": {},
   "source": [
    "Para estas segunda estrategia, se consideran analizar los mismos modelos bajo los escenarios de reducir la dimensionalidad del conjunto de datos a diferentes cantidades de componentes.\n",
    "\n",
    "En primer lugar se estandarizan los datos utilizando `StandardScaler` que normaliza las variables numéricas en una distribución normal de media de 0 y desviación estandar de 1. A continuación, se definen 4 escenarios teneniendo en cuenta 3, 5, 8 y 10 componentes a los cuales se reducirán las variables y mediante un ciclo iterativo se reducen la dimensionalidad y entrenan cada uno de los modelos.\n",
    "\n",
    "Las mejores métricas de cada modelo para cada escenario de PCA se guarda en un diccionario para luego comparar y visualizar."
   ]
  },
  {
   "cell_type": "markdown",
   "metadata": {},
   "source": [
    "### Se preparan los datos"
   ]
  },
  {
   "cell_type": "code",
   "execution_count": 27,
   "metadata": {},
   "outputs": [],
   "source": [
    "# Se estandarizan los datos antes de aplicar PCA\n",
    "scaler = StandardScaler()\n",
    "X_train_scaled = scaler.fit_transform(X_train_ros)\n",
    "X_test_scaled = scaler.transform(X_test)"
   ]
  },
  {
   "cell_type": "markdown",
   "metadata": {},
   "source": [
    "### Se hace el entrenamiento"
   ]
  },
  {
   "cell_type": "code",
   "execution_count": 28,
   "metadata": {},
   "outputs": [],
   "source": [
    "def GridSearch_model(model, param_grid, X_train, y_train, X_test, y_test):\n",
    "    '''\n",
    "    Entrena un modelo haciendo la técnica de búsqueda de hiperparámetros en grilla y devuelve\n",
    "    los valores de y predichos para el entrenamiento y testeo, asó como el mejor modelo y sus parámetros.\n",
    "    '''\n",
    "    grid_search = GridSearchCV(model, param_grid, cv=5)\n",
    "    grid_search.fit(X_train, y_train)\n",
    "    \n",
    "    best_model = grid_search.best_estimator_\n",
    "    y_pred_train = best_model.predict(X_train)\n",
    "    y_pred_test = best_model.predict(X_test)\n",
    "    best_params = grid_search.best_params_\n",
    "    \n",
    "    return y_pred_train, y_pred_test, best_model, best_params"
   ]
  },
  {
   "cell_type": "code",
   "execution_count": 29,
   "metadata": {},
   "outputs": [],
   "source": [
    "# Se define un diccionario para almacenar resultados\n",
    "results = {}\n",
    "\n",
    "# Se definen los números de componentes principales\n",
    "num_components = [3, 5, 8, 10]\n",
    "\n",
    "for n in num_components:\n",
    "    \n",
    "    # Se aplica PCA\n",
    "    pca = PCA(n_components=n)\n",
    "    X_train_pca = pca.fit_transform(X_train_scaled)\n",
    "    X_test_pca = pca.transform(X_test_scaled)\n",
    "    \n",
    "    # Se hace el entrenamiento y evaluación de los modelos\n",
    "    knn_pred_train, knn_pred_test, best_knn, knn_best_params = GridSearch_model(knn, param_grid_knn, X_train_pca, y_train_ros, X_test_pca, y_test)\n",
    "    tree_pred_train, tree_pred_test, best_tree, tree_best_params = GridSearch_model(tree, param_grid_tree, X_train_pca, y_train_ros, X_test_pca, y_test)\n",
    "    svc_pred_train, svc_pred_test, best_svc, svc_best_params = GridSearch_model(svc, param_grid_SVC, X_train_pca, y_train_ros, X_test_pca, y_test)\n",
    "    \n",
    "    # Se almacenan los resultados en el diccionario\n",
    "    results[n] = {\n",
    "        'KNN': (knn_pred_train, knn_pred_test, best_knn),\n",
    "        'Tree': (tree_pred_train, tree_pred_test, best_tree),\n",
    "        'SVC': (svc_pred_train, svc_pred_test, best_svc)\n",
    "    }"
   ]
  },
  {
   "cell_type": "markdown",
   "metadata": {},
   "source": [
    "### Resultados"
   ]
  },
  {
   "cell_type": "code",
   "execution_count": 33,
   "metadata": {},
   "outputs": [],
   "source": [
    "def resumen_metricas_PCA(results, y_train_ros, y_test_ros):\n",
    "    '''\n",
    "    Permite resumir las mejores métricas para los distintos modelos, tanto para el entrenaiento como el testeo.\n",
    "    '''\n",
    "    # Crear una lista de diccionarios para almacenar los resultados\n",
    "    summary_results = []\n",
    "\n",
    "    # Resumir métricas de forma más concisa y almacenar en la lista\n",
    "    for n, models in results.items():\n",
    "        for model_name, (y_train_pred, y_test_pred, best_model) in models.items():\n",
    "            report_train = classification_report(y_train_ros, y_train_pred, output_dict=True)\n",
    "            report_test = classification_report(y_test_ros, y_test_pred, output_dict=True)\n",
    "            \n",
    "            summary_results.append({\n",
    "                'Components': n,\n",
    "                'Model': model_name,\n",
    "                'Train_Precision': report_train[\"macro avg\"][\"precision\"],\n",
    "                'Train_Recall': report_train[\"macro avg\"][\"recall\"],\n",
    "                'Train_F1': report_train[\"macro avg\"][\"f1-score\"],\n",
    "                'Test_Precision': report_test[\"macro avg\"][\"precision\"],\n",
    "                'Test_Recall': report_test[\"macro avg\"][\"recall\"],\n",
    "                'Test_F1': report_test[\"macro avg\"][\"f1-score\"]\n",
    "            })\n",
    "\n",
    "    # Crear un DataFrame a partir de la lista de resultados\n",
    "    df_summary = pd.DataFrame(summary_results)\n",
    "\n",
    "    # Reorganizar el DataFrame para tener una columna para cada métrica\n",
    "    df_summary_metrics = df_summary.pivot(index='Components', columns='Model')\n",
    "\n",
    "    # Elegir las métricas que deseas visualizar (por ejemplo, precisión, recall, F1-score)\n",
    "    metrics_to_show = ['Train_Precision', 'Train_Recall', 'Train_F1', 'Test_Precision', 'Test_Recall', 'Test_F1']\n",
    "    df_metrics_to_show = df_summary_metrics[metrics_to_show]\n",
    "\n",
    "    # Crear un heatmap\n",
    "    plt.figure(figsize=(10, 3))\n",
    "    sns.heatmap(df_metrics_to_show, annot=True, cmap='coolwarm', fmt=\".2f\")\n",
    "    plt.title('Comparación de Métricas por Modelo y Componentes Principales')\n",
    "    plt.show()\n",
    "    \n",
    "    return df_summary"
   ]
  },
  {
   "cell_type": "code",
   "execution_count": 34,
   "metadata": {},
   "outputs": [
    {
     "data": {
      "image/png": "[encoded data removed]",
      "text/plain": [
       "<Figure size 1000x300 with 2 Axes>"
      ]
     },
     "metadata": {},
     "output_type": "display_data"
    }
   ],
   "source": [
    "# Se resumen las métricas\n",
    "df_summary = resumen_metricas_PCA(results, y_train_ros, y_test)"
   ]
  },
  {
   "cell_type": "code",
   "execution_count": 36,
   "metadata": {},
   "outputs": [],
   "source": [
    "def matriz_confusion_PCA(df_summary, results, y_test, metrica):\n",
    "    '''\n",
    "    Realiza la matriz de confusión para el mejor modelo y mejor métrica que se obtuvo para el enfoque de PCA.\n",
    "    '''\n",
    "    # df_summary contiene la información de los mejores modelos\n",
    "    best_model_info = df_summary[df_summary[metrica] == df_summary[metrica].max()].iloc[0]\n",
    "\n",
    "    # Obtener información del mejor modelo\n",
    "    best_components = best_model_info['Components']\n",
    "    best_model_name = best_model_info['Model']\n",
    "\n",
    "    # Obtener predicciones del mejor modelo\n",
    "    best_model_preds = results[best_components][best_model_name][1]\n",
    "\n",
    "    # Obtener matriz de confusión\n",
    "    conf_matrix = confusion_matrix(y_test, best_model_preds)\n",
    "\n",
    "    # Crear una visualización de la matriz de confusión\n",
    "    cm_display = ConfusionMatrixDisplay(conf_matrix)\n",
    "    cm_display.plot()\n",
    "    plt.xlabel('Predicciones')\n",
    "    plt.ylabel('Verdaderos')\n",
    "    plt.title(f'Confusion Matrix for {best_model_name} (Components: {best_components})')\n",
    "    plt.show()"
   ]
  },
  {
   "cell_type": "code",
   "execution_count": 37,
   "metadata": {},
   "outputs": [
    {
     "data": {
      "image/png": "[encoded data removed]",
      "text/plain": [
       "<Figure size 640x480 with 2 Axes>"
      ]
     },
     "metadata": {},
     "output_type": "display_data"
    }
   ],
   "source": [
    "# Visualiza la matriz de confusión para la metrica deseada\n",
    "matriz_confusion_PCA(df_summary, results, y_test, 'Test_F1')"
   ]
  },
  {
   "cell_type": "code",
   "execution_count": 38,
   "metadata": {},
   "outputs": [
    {
     "name": "stdout",
     "output_type": "stream",
     "text": [
      "PARÁMETROS DE LOS MEJORES MODELOS\n",
      "KNN: {'algorithm': 'auto', 'leaf_size': 1, 'n_neighbors': np.int64(1), 'weights': 'uniform'}\n",
      "Decision Tree: {'criterion': 'entropy', 'max_depth': 17}\n",
      "SCV: {'C': 10, 'gamma': 1, 'kernel': 'rbf'}\n"
     ]
    }
   ],
   "source": [
    "# Se presentan los mejores parámetros para cada modelo\n",
    "print('PARÁMETROS DE LOS MEJORES MODELOS')\n",
    "print('KNN:', knn_best_params)\n",
    "print('Decision Tree:', tree_best_params)\n",
    "print('SCV:', svc_best_params)"
   ]
  },
  {
   "cell_type": "markdown",
   "metadata": {},
   "source": [
    "En este enfoque, se puede ver que el modelo que da mejores resultados es **Árbol de Decisión** para el escenario de 8 componentes de reducción de dimensionalidad. Para este caso se ve que F1 Score es de 0.92, mucho mejor que el obtenido con el primer enfoque."
   ]
  },
  {
   "cell_type": "markdown",
   "metadata": {},
   "source": [
    "-----------------\n",
    "----------------"
   ]
  },
  {
   "cell_type": "markdown",
   "metadata": {},
   "source": [
    "# Conclusiones"
   ]
  },
  {
   "cell_type": "markdown",
   "metadata": {},
   "source": [
    "Se entrenaron 3 modelos (Árbol de Decisión, K-Vecinos Cercanos y Máquina de Soporte de Vectores) teniendo en cuenta dos enfoques de análisis. Por un lado teniendo en cuenta todas las variables del conjunto de datos y, por otro lado, considerando cuatro escenarios de reducción de dimensionalidad del conjunto.\n",
    "\n",
    "En ambos enfoques se encontró que el mejor algoritmo que clasifica los pacientes en los que se hospitalizados y no hospitalizados fue el Árbol de Decisión, pero en el caso del primer enfoque, donde se usaron todas las variables del conjunto de datos, solo llegó a un F1 Score de 0.67, bastante bajo. Sin embago, con el enfoque de reducción de la dimensionalidad, el mejor modelo fue un Árbol de decisión de máxima profundidad de 19, con criterio Gini y con 8 Componentes de reducción. En éste último caso, se llegó a un F1 Score de 0.92, siendo un muy buen rendimiento considerando el gran desbalance de la clase objetivo."
   ]
  }
 ],
 "metadata": {
  "kernelspec": {
   "display_name": "Python 3",
   "language": "python",
   "name": "python3"
  },
  "language_info": {
   "codemirror_mode": {
    "name": "ipython",
    "version": 3
   },
   "file_extension": ".py",
   "mimetype": "text/x-python",
   "name": "python",
   "nbconvert_exporter": "python",
   "pygments_lexer": "ipython3",
   "version": "3.11.9"
  }
 },
 "nbformat": 4,
 "nbformat_minor": 2
}
